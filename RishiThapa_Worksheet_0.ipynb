{
  "nbformat": 4,
  "nbformat_minor": 0,
  "metadata": {
    "colab": {
      "provenance": []
    },
    "kernelspec": {
      "name": "python3",
      "display_name": "Python 3"
    },
    "language_info": {
      "name": "python"
    }
  },
  "cells": [
    {
      "cell_type": "markdown",
      "source": [
        "**Basic Vector and Matrix Operation with Numpy.**"
      ],
      "metadata": {
        "id": "UhHuhvL89iwf"
      }
    },
    {
      "cell_type": "markdown",
      "source": [
        "Problem - 1: Array Creation:"
      ],
      "metadata": {
        "id": "HNVhD2K59ueL"
      }
    },
    {
      "cell_type": "code",
      "execution_count": 1,
      "metadata": {
        "colab": {
          "base_uri": "https://localhost:8080/"
        },
        "id": "jq5WCi7j9PUj",
        "outputId": "8d7e4b83-d60c-405b-b91c-88e3c92d7f5c"
      },
      "outputs": [
        {
          "output_type": "stream",
          "name": "stdout",
          "text": [
            "Empty 2x2 array:\n",
            " [[3.03112312e-316 0.00000000e+000]\n",
            " [4.22797985e-307 1.00813461e-109]]\n"
          ]
        }
      ],
      "source": [
        "import numpy as np\n",
        "\n",
        "# 1. Initialize an empty array with size 2X2.\n",
        "empty_array = np.empty((2, 2))\n",
        "print(\"Empty 2x2 array:\\n\", empty_array)"
      ]
    },
    {
      "cell_type": "code",
      "source": [
        "# 2. Initialize an all one array with size 4X2.\n",
        "ones_array = np.ones((4, 2))\n",
        "print(\"All ones 4x2 array:\\n\", ones_array)"
      ],
      "metadata": {
        "colab": {
          "base_uri": "https://localhost:8080/"
        },
        "id": "If3WorFr2vFp",
        "outputId": "11bc6bbb-fb31-43b3-9b80-b7262ae68921"
      },
      "execution_count": 2,
      "outputs": [
        {
          "output_type": "stream",
          "name": "stdout",
          "text": [
            "All ones 4x2 array:\n",
            " [[1. 1.]\n",
            " [1. 1.]\n",
            " [1. 1.]\n",
            " [1. 1.]]\n"
          ]
        }
      ]
    },
    {
      "cell_type": "code",
      "source": [
        "# 3. Return a new array of given shape and type, filled with fill value.\n",
        "filled_array = np.full((3, 3), 5)  # Fill with value 5\n",
        "print(\"Filled 3x3 array with value 5:\\n\", filled_array)"
      ],
      "metadata": {
        "colab": {
          "base_uri": "https://localhost:8080/"
        },
        "id": "b8efAgsH2vOa",
        "outputId": "e5167222-a13e-4a73-c884-62c5f686b90e"
      },
      "execution_count": 3,
      "outputs": [
        {
          "output_type": "stream",
          "name": "stdout",
          "text": [
            "Filled 3x3 array with value 5:\n",
            " [[5 5 5]\n",
            " [5 5 5]\n",
            " [5 5 5]]\n"
          ]
        }
      ]
    },
    {
      "cell_type": "code",
      "source": [
        "# 4. Return a new array of zeros with same shape and type as a given array.\n",
        "zeros_like_array = np.zeros_like(filled_array)\n",
        "print(\"Zeros array with same shape as filled_array:\\n\", zeros_like_array)"
      ],
      "metadata": {
        "colab": {
          "base_uri": "https://localhost:8080/"
        },
        "id": "Hh00obor2vYN",
        "outputId": "f0b4e29e-e6d8-4f31-c58e-e462f2c33168"
      },
      "execution_count": 4,
      "outputs": [
        {
          "output_type": "stream",
          "name": "stdout",
          "text": [
            "Zeros array with same shape as filled_array:\n",
            " [[0 0 0]\n",
            " [0 0 0]\n",
            " [0 0 0]]\n"
          ]
        }
      ]
    },
    {
      "cell_type": "code",
      "source": [
        "# 5. Return a new array of ones with same shape and type as a given array.\n",
        "ones_like_array = np.ones_like(filled_array)\n",
        "print(\"Ones array with same shape as filled_array:\\n\", ones_like_array)"
      ],
      "metadata": {
        "colab": {
          "base_uri": "https://localhost:8080/"
        },
        "id": "S8omAwRM2vhD",
        "outputId": "ed9890bd-cfff-4081-fe60-9034534a1fab"
      },
      "execution_count": 5,
      "outputs": [
        {
          "output_type": "stream",
          "name": "stdout",
          "text": [
            "Ones array with same shape as filled_array:\n",
            " [[1 1 1]\n",
            " [1 1 1]\n",
            " [1 1 1]]\n"
          ]
        }
      ]
    },
    {
      "cell_type": "code",
      "source": [
        "# 6. Convert an existing list to a numpy array.\n",
        "new_list = [1, 2, 3, 4]\n",
        "numpy_array = np.array(new_list)\n",
        "print(\"Numpy array from list:\\n\", numpy_array)"
      ],
      "metadata": {
        "colab": {
          "base_uri": "https://localhost:8080/"
        },
        "id": "-EJ_L1Vy2vpM",
        "outputId": "69f66179-7ff6-4670-8dd8-7c703f0b535f"
      },
      "execution_count": 6,
      "outputs": [
        {
          "output_type": "stream",
          "name": "stdout",
          "text": [
            "Numpy array from list:\n",
            " [1 2 3 4]\n"
          ]
        }
      ]
    },
    {
      "cell_type": "markdown",
      "source": [
        "\n",
        "**Problem - 2: Array Manipulation: Numerical Ranges and Array Indexing**"
      ],
      "metadata": {
        "id": "eQK4zSHX90qY"
      }
    },
    {
      "cell_type": "code",
      "source": [
        "# 1. Create an array with values ranging from 10 to 49.\n",
        "range_array = np.arange(10, 50)\n",
        "print(\"Array with values from 10 to 49:\\n\", range_array)"
      ],
      "metadata": {
        "colab": {
          "base_uri": "https://localhost:8080/"
        },
        "id": "FANYT_RS95S-",
        "outputId": "e54dca29-a979-41ac-d04a-15f6bbc6d843"
      },
      "execution_count": 7,
      "outputs": [
        {
          "output_type": "stream",
          "name": "stdout",
          "text": [
            "Array with values from 10 to 49:\n",
            " [10 11 12 13 14 15 16 17 18 19 20 21 22 23 24 25 26 27 28 29 30 31 32 33\n",
            " 34 35 36 37 38 39 40 41 42 43 44 45 46 47 48 49]\n"
          ]
        }
      ]
    },
    {
      "cell_type": "code",
      "source": [
        "# 2. Create a 3X3 matrix with values ranging from 0 to 8.\n",
        "reshaped_array = np.arange(9).reshape(3, 3)\n",
        "print(\"3x3 matrix with values 0 to 8:\\n\", reshaped_array)"
      ],
      "metadata": {
        "colab": {
          "base_uri": "https://localhost:8080/"
        },
        "id": "rQIg-6M53Atg",
        "outputId": "6d3155ff-5a39-46e7-9f44-629d6c258184"
      },
      "execution_count": 8,
      "outputs": [
        {
          "output_type": "stream",
          "name": "stdout",
          "text": [
            "3x3 matrix with values 0 to 8:\n",
            " [[0 1 2]\n",
            " [3 4 5]\n",
            " [6 7 8]]\n"
          ]
        }
      ]
    },
    {
      "cell_type": "code",
      "source": [
        "# 3. Create a 3X3 identity matrix.\n",
        "identity_matrix = np.eye(3)\n",
        "print(\"3x3 identity matrix:\\n\", identity_matrix)"
      ],
      "metadata": {
        "colab": {
          "base_uri": "https://localhost:8080/"
        },
        "id": "vruUVzfw3A1o",
        "outputId": "ccdb2f85-2818-469a-8ede-1f762d36db85"
      },
      "execution_count": 9,
      "outputs": [
        {
          "output_type": "stream",
          "name": "stdout",
          "text": [
            "3x3 identity matrix:\n",
            " [[1. 0. 0.]\n",
            " [0. 1. 0.]\n",
            " [0. 0. 1.]]\n"
          ]
        }
      ]
    },
    {
      "cell_type": "code",
      "source": [
        "# 4. Create a random array of size 30 and find the mean of the array.\n",
        "random_array = np.random.random(30)\n",
        "mean_value = random_array.mean()\n",
        "print(\"Random array of size 30:\\n\", random_array)\n",
        "print(\"Mean of the array:\", mean_value)"
      ],
      "metadata": {
        "colab": {
          "base_uri": "https://localhost:8080/"
        },
        "id": "_f1ON-Lt3A9r",
        "outputId": "9a8305a1-d194-4086-bb82-a79c7a5b53df"
      },
      "execution_count": 10,
      "outputs": [
        {
          "output_type": "stream",
          "name": "stdout",
          "text": [
            "Random array of size 30:\n",
            " [0.21528164 0.12620344 0.78989901 0.83071603 0.34698374 0.40844746\n",
            " 0.49724539 0.48070458 0.7958108  0.90172762 0.4598472  0.55293292\n",
            " 0.24005193 0.74189364 0.96374782 0.71182139 0.99554369 0.52953687\n",
            " 0.16332601 0.94923564 0.16841329 0.67606318 0.86952918 0.33118169\n",
            " 0.68932009 0.52944754 0.33715684 0.70474888 0.07631258 0.45792818]\n",
            "Mean of the array: 0.5513686084910306\n"
          ]
        }
      ]
    },
    {
      "cell_type": "code",
      "source": [
        "# 5. Create a 10X10 array with random values and find the minimum and maximum values.\n",
        "random_10x10 = np.random.random((10, 10))\n",
        "min_value = random_10x10.min()\n",
        "max_value = random_10x10.max()\n",
        "print(\"10x10 random array:\\n\", random_10x10)\n",
        "print(\"Minimum value:\", min_value)\n",
        "print(\"Maximum value:\", max_value)"
      ],
      "metadata": {
        "colab": {
          "base_uri": "https://localhost:8080/"
        },
        "id": "pquRSioS3BGS",
        "outputId": "63883f2b-5821-45d4-f3ca-2b9e8f0f4125"
      },
      "execution_count": 11,
      "outputs": [
        {
          "output_type": "stream",
          "name": "stdout",
          "text": [
            "10x10 random array:\n",
            " [[0.51566443 0.92123463 0.58302924 0.41712168 0.8577741  0.25071976\n",
            "  0.55310609 0.57621058 0.28006186 0.34197652]\n",
            " [0.00557827 0.67699869 0.92006416 0.38970743 0.36001054 0.31789997\n",
            "  0.6733685  0.12548246 0.37029063 0.51112633]\n",
            " [0.46764594 0.73368769 0.23051841 0.64505091 0.20510504 0.43991243\n",
            "  0.40288356 0.97457854 0.39294601 0.59724396]\n",
            " [0.5475046  0.49365614 0.65859645 0.51531845 0.8126717  0.04878171\n",
            "  0.27485299 0.77303214 0.48958714 0.17181319]\n",
            " [0.3475228  0.07655658 0.24624909 0.12068869 0.5784777  0.94861314\n",
            "  0.80063037 0.96233273 0.28370822 0.90682622]\n",
            " [0.78320355 0.69866699 0.65258963 0.1716916  0.29698508 0.82827566\n",
            "  0.17947373 0.49850581 0.92468745 0.03836305]\n",
            " [0.37462212 0.01732358 0.36021101 0.30478706 0.94734223 0.88309409\n",
            "  0.22599979 0.17574791 0.36501063 0.29327228]\n",
            " [0.54594508 0.42403751 0.60331209 0.00530445 0.78518362 0.09707631\n",
            "  0.49873904 0.1043694  0.632068   0.31447433]\n",
            " [0.69753273 0.02286894 0.82706028 0.53846237 0.03268537 0.30812464\n",
            "  0.91596665 0.83018856 0.45425605 0.8146629 ]\n",
            " [0.67414952 0.06432114 0.03178508 0.72750003 0.20655849 0.79783233\n",
            "  0.70897777 0.75559781 0.18394802 0.12017123]]\n",
            "Minimum value: 0.00530445038324312\n",
            "Maximum value: 0.9745785362365778\n"
          ]
        }
      ]
    },
    {
      "cell_type": "code",
      "source": [
        "# 6. Create a zero array of size 10 and replace the 5th element with 1.\n",
        "zero_array = np.zeros(10)\n",
        "zero_array[4] = 1  # Indexing starts from 0\n",
        "print(\"Zero array with 5th element replaced by 1:\\n\", zero_array)"
      ],
      "metadata": {
        "colab": {
          "base_uri": "https://localhost:8080/"
        },
        "id": "eW3t9hA93BPI",
        "outputId": "aa2a4d18-d869-4d13-e5cb-a752d5a68086"
      },
      "execution_count": 12,
      "outputs": [
        {
          "output_type": "stream",
          "name": "stdout",
          "text": [
            "Zero array with 5th element replaced by 1:\n",
            " [0. 0. 0. 0. 1. 0. 0. 0. 0. 0.]\n"
          ]
        }
      ]
    },
    {
      "cell_type": "code",
      "source": [
        "# 7. Reverse an array arr = [1, 2, 0, 0, 4, 0].\n",
        "arr = np.array([1, 2, 0, 0, 4, 0])\n",
        "reversed_arr = arr[::-1]\n",
        "print(\"Reversed array:\\n\", reversed_arr)"
      ],
      "metadata": {
        "colab": {
          "base_uri": "https://localhost:8080/"
        },
        "id": "zXYdGMbi3BZ1",
        "outputId": "885a4b52-cad1-4660-9fa5-89bcccfd3b8d"
      },
      "execution_count": 13,
      "outputs": [
        {
          "output_type": "stream",
          "name": "stdout",
          "text": [
            "Reversed array:\n",
            " [0 4 0 0 2 1]\n"
          ]
        }
      ]
    },
    {
      "cell_type": "code",
      "source": [
        "# 8. Create a 2D array with 1 on the border and 0 inside.\n",
        "border_array = np.ones((5, 5))\n",
        "border_array[1:-1, 1:-1] = 0\n",
        "print(\"2D array with 1 on border and 0 inside:\\n\", border_array)"
      ],
      "metadata": {
        "colab": {
          "base_uri": "https://localhost:8080/"
        },
        "id": "rsuxxWsr3hui",
        "outputId": "11c56c49-8696-427b-82f3-924f8d1ceec7"
      },
      "execution_count": 14,
      "outputs": [
        {
          "output_type": "stream",
          "name": "stdout",
          "text": [
            "2D array with 1 on border and 0 inside:\n",
            " [[1. 1. 1. 1. 1.]\n",
            " [1. 0. 0. 0. 1.]\n",
            " [1. 0. 0. 0. 1.]\n",
            " [1. 0. 0. 0. 1.]\n",
            " [1. 1. 1. 1. 1.]]\n"
          ]
        }
      ]
    },
    {
      "cell_type": "code",
      "source": [
        "# 9. Create an 8X8 matrix and fill it with a checkerboard pattern.\n",
        "checkerboard = np.zeros((8, 8))\n",
        "checkerboard[1::2, ::2] = 1\n",
        "checkerboard[::2, 1::2] = 1\n",
        "print(\"8x8 checkerboard pattern:\\n\", checkerboard)"
      ],
      "metadata": {
        "colab": {
          "base_uri": "https://localhost:8080/"
        },
        "id": "ha9ONlVN3h_f",
        "outputId": "10f1c930-4d06-48fb-bd93-4df6bc3d36c1"
      },
      "execution_count": 15,
      "outputs": [
        {
          "output_type": "stream",
          "name": "stdout",
          "text": [
            "8x8 checkerboard pattern:\n",
            " [[0. 1. 0. 1. 0. 1. 0. 1.]\n",
            " [1. 0. 1. 0. 1. 0. 1. 0.]\n",
            " [0. 1. 0. 1. 0. 1. 0. 1.]\n",
            " [1. 0. 1. 0. 1. 0. 1. 0.]\n",
            " [0. 1. 0. 1. 0. 1. 0. 1.]\n",
            " [1. 0. 1. 0. 1. 0. 1. 0.]\n",
            " [0. 1. 0. 1. 0. 1. 0. 1.]\n",
            " [1. 0. 1. 0. 1. 0. 1. 0.]]\n"
          ]
        }
      ]
    },
    {
      "cell_type": "markdown",
      "source": [
        "**Problem - 3: Array Operations**"
      ],
      "metadata": {
        "id": "laON9qBa97SN"
      }
    },
    {
      "cell_type": "code",
      "source": [
        "x = np.array([[1, 2], [3, 5]])\n",
        "y = np.array([[5, 6], [7, 8]])\n",
        "v = np.array([9, 10])\n",
        "w = np.array([11, 12])\n",
        "\n",
        "# 1. Add the two arrays.\n",
        "add_result = x + y\n",
        "print(\"Addition of x and y:\\n\", add_result)"
      ],
      "metadata": {
        "colab": {
          "base_uri": "https://localhost:8080/"
        },
        "id": "ea8GGqfW9-H6",
        "outputId": "58cd3a87-999f-4690-b89b-6e4f56c9baf9"
      },
      "execution_count": 16,
      "outputs": [
        {
          "output_type": "stream",
          "name": "stdout",
          "text": [
            "Addition of x and y:\n",
            " [[ 6  8]\n",
            " [10 13]]\n"
          ]
        }
      ]
    },
    {
      "cell_type": "code",
      "source": [
        "# 2. Subtract the two arrays.\n",
        "sub_result = x - y\n",
        "print(\"Subtraction of x and y:\\n\", sub_result)"
      ],
      "metadata": {
        "colab": {
          "base_uri": "https://localhost:8080/"
        },
        "id": "SUezm_NM3sBb",
        "outputId": "8587b2ae-96fc-4da8-9231-218aac7ae757"
      },
      "execution_count": 17,
      "outputs": [
        {
          "output_type": "stream",
          "name": "stdout",
          "text": [
            "Subtraction of x and y:\n",
            " [[-4 -4]\n",
            " [-4 -3]]\n"
          ]
        }
      ]
    },
    {
      "cell_type": "code",
      "source": [
        "# 3. Multiply the array with any integer.\n",
        "mul_result = x * 2\n",
        "print(\"Multiplication of x by 2:\\n\", mul_result)"
      ],
      "metadata": {
        "colab": {
          "base_uri": "https://localhost:8080/"
        },
        "id": "v0F-ZCzI3sKO",
        "outputId": "6894b535-e831-4348-f979-0eb656b8f77d"
      },
      "execution_count": 18,
      "outputs": [
        {
          "output_type": "stream",
          "name": "stdout",
          "text": [
            "Multiplication of x by 2:\n",
            " [[ 2  4]\n",
            " [ 6 10]]\n"
          ]
        }
      ]
    },
    {
      "cell_type": "code",
      "source": [
        "# 4. Find the square of each element of the array.\n",
        "square_result = x**2\n",
        "print(\"Square of each element in x:\\n\", square_result)"
      ],
      "metadata": {
        "colab": {
          "base_uri": "https://localhost:8080/"
        },
        "id": "0g7Lda-w3sRx",
        "outputId": "678035b9-8f65-4ed8-d392-47570625951c"
      },
      "execution_count": 19,
      "outputs": [
        {
          "output_type": "stream",
          "name": "stdout",
          "text": [
            "Square of each element in x:\n",
            " [[ 1  4]\n",
            " [ 9 25]]\n"
          ]
        }
      ]
    },
    {
      "cell_type": "code",
      "source": [
        "# 5. Find the dot product between: v and w; x and v; x and y.\n",
        "dot_vw = np.dot(v, w)\n",
        "dot_xv = np.dot(x, v)\n",
        "dot_xy = np.dot(x, y)\n",
        "print(\"Dot product of v and w:\", dot_vw)\n",
        "print(\"Dot product of x and v:\", dot_xv)\n",
        "print(\"Dot product of x and y:\\n\", dot_xy)"
      ],
      "metadata": {
        "colab": {
          "base_uri": "https://localhost:8080/"
        },
        "id": "IGK78pYw3sZm",
        "outputId": "b21d9982-a008-4c26-bda3-9f295c6b309a"
      },
      "execution_count": 20,
      "outputs": [
        {
          "output_type": "stream",
          "name": "stdout",
          "text": [
            "Dot product of v and w: 219\n",
            "Dot product of x and v: [29 77]\n",
            "Dot product of x and y:\n",
            " [[19 22]\n",
            " [50 58]]\n"
          ]
        }
      ]
    },
    {
      "cell_type": "code",
      "source": [
        "# 6. Concatenate x and y along row and v and w along column.\n",
        "concat_row = np.concatenate((x, y), axis=0)\n",
        "concat_col = np.concatenate((v[:, np.newaxis], w[:, np.newaxis]), axis=1)\n",
        "print(\"Concatenation of x and y along row:\\n\", concat_row)\n",
        "print(\"Concatenation of v and w along column:\\n\", concat_col)"
      ],
      "metadata": {
        "colab": {
          "base_uri": "https://localhost:8080/"
        },
        "id": "hjN_OUbx3shN",
        "outputId": "74720f0f-a3c1-41d4-881d-92f5ef8bf6bf"
      },
      "execution_count": 21,
      "outputs": [
        {
          "output_type": "stream",
          "name": "stdout",
          "text": [
            "Concatenation of x and y along row:\n",
            " [[1 2]\n",
            " [3 5]\n",
            " [5 6]\n",
            " [7 8]]\n",
            "Concatenation of v and w along column:\n",
            " [[ 9 11]\n",
            " [10 12]]\n"
          ]
        }
      ]
    },
    {
      "cell_type": "code",
      "source": [
        "# 7. Concatenate x and v; observe and explain the error.\n",
        "try:\n",
        "    concat_xv = np.concatenate((x, v))\n",
        "except ValueError as e:\n",
        "    print(\"Error:\", e)\n",
        "    print(\"Explanation: x and v have different shapes. x is 2x2 and v is 1D with shape (2,).\")"
      ],
      "metadata": {
        "colab": {
          "base_uri": "https://localhost:8080/"
        },
        "id": "zHeF32bC3spV",
        "outputId": "d8e9fe76-bb05-4367-8ab5-b5a5892e260c"
      },
      "execution_count": 22,
      "outputs": [
        {
          "output_type": "stream",
          "name": "stdout",
          "text": [
            "Error: all the input arrays must have same number of dimensions, but the array at index 0 has 2 dimension(s) and the array at index 1 has 1 dimension(s)\n",
            "Explanation: x and v have different shapes. x is 2x2 and v is 1D with shape (2,).\n"
          ]
        }
      ]
    },
    {
      "cell_type": "markdown",
      "source": [
        "**Problem - 4: Matrix Operations**"
      ],
      "metadata": {
        "id": "e9sfXmdJ-ATV"
      }
    },
    {
      "cell_type": "code",
      "source": [
        "A = np.array([[3, 4], [7, 8]])\n",
        "B = np.array([[5, 3], [2, 1]])\n",
        "\n",
        "# 1. Prove A.A−1 = I.\n",
        "A_inv = np.linalg.inv(A)\n",
        "identity_check = np.dot(A, A_inv)\n",
        "print(\"A.A^{-1}:\\n\", identity_check)\n",
        "\n",
        "\n",
        "\n"
      ],
      "metadata": {
        "colab": {
          "base_uri": "https://localhost:8080/"
        },
        "id": "d7twjFM1-DzT",
        "outputId": "1bed62f7-54d0-4ba5-88de-de31d04add24"
      },
      "execution_count": 23,
      "outputs": [
        {
          "output_type": "stream",
          "name": "stdout",
          "text": [
            "A.A^{-1}:\n",
            " [[1.00000000e+00 0.00000000e+00]\n",
            " [1.77635684e-15 1.00000000e+00]]\n"
          ]
        }
      ]
    },
    {
      "cell_type": "code",
      "source": [
        "# 2. Prove AB ≠ BA.\n",
        "AB = np.dot(A, B)\n",
        "BA = np.dot(B, A)\n",
        "print(\"AB:\\n\", AB)\n",
        "print(\"BA:\\n\", BA)\n",
        "print(\"AB != BA:\", not np.array_equal(AB, BA))"
      ],
      "metadata": {
        "colab": {
          "base_uri": "https://localhost:8080/"
        },
        "id": "QCWhOKXf4VmB",
        "outputId": "c1b2ca6e-ed3f-4177-c305-258b92b16eb1"
      },
      "execution_count": 24,
      "outputs": [
        {
          "output_type": "stream",
          "name": "stdout",
          "text": [
            "AB:\n",
            " [[23 13]\n",
            " [51 29]]\n",
            "BA:\n",
            " [[36 44]\n",
            " [13 16]]\n",
            "AB != BA: True\n"
          ]
        }
      ]
    },
    {
      "cell_type": "code",
      "source": [
        "# 3. Prove (AB)^T = B^T A^T.\n",
        "AB_T = AB.T\n",
        "B_T_A_T = np.dot(B.T, A.T)\n",
        "print(\"(AB)^T:\\n\", AB_T)\n",
        "print(\"B^T A^T:\\n\", B_T_A_T)\n",
        "print(\"(AB)^T == B^T A^T:\", np.array_equal(AB_T, B_T_A_T))\n",
        "\n",
        "# Solve the system of linear equations using the inverse method.\n",
        "# 2x - 3y + z = -1\n",
        "# x - y + 2z = -3\n",
        "# 3x + y - z = 9\n",
        "A_eq = np.array([[2, -3, 1], [1, -1, 2], [3, 1, -1]])\n",
        "B_eq = np.array([-1, -3, 9])\n",
        "X = np.linalg.inv(A_eq) @ B_eq\n",
        "print(\"Solution to the system of equations:\", X)\n",
        "\n",
        "# Solve using np.linalg.inv\n",
        "X_inv = np.linalg.solve(A_eq, B_eq)\n",
        "print(\"Solution using np.linalg.solve:\", X_inv)"
      ],
      "metadata": {
        "colab": {
          "base_uri": "https://localhost:8080/"
        },
        "id": "702whIcr4Vvh",
        "outputId": "5e5c028e-15f7-4246-9543-f9e1f9ae365c"
      },
      "execution_count": 25,
      "outputs": [
        {
          "output_type": "stream",
          "name": "stdout",
          "text": [
            "(AB)^T:\n",
            " [[23 51]\n",
            " [13 29]]\n",
            "B^T A^T:\n",
            " [[23 51]\n",
            " [13 29]]\n",
            "(AB)^T == B^T A^T: True\n",
            "Solution to the system of equations: [ 2.  1. -2.]\n",
            "Solution using np.linalg.solve: [ 2.  1. -2.]\n"
          ]
        }
      ]
    },
    {
      "cell_type": "markdown",
      "source": [
        "**Problem - 5: Performance Comparison (Numpy vs Python Lists)**"
      ],
      "metadata": {
        "id": "4gVfH33A-FYL"
      }
    },
    {
      "cell_type": "code",
      "source": [
        "import time\n",
        "\n",
        "# Element-wise Addition\n",
        "python_list1 = [i for i in range(1000000)]\n",
        "python_list2 = [i for i in range(1000000)]\n",
        "start_time = time.time()\n",
        "result = [a + b for a, b in zip(python_list1, python_list2)]\n",
        "print(\"Python list addition time:\", time.time() - start_time)\n",
        "\n",
        "numpy_array1 = np.arange(1000000)\n",
        "numpy_array2 = np.arange(1000000)\n",
        "start_time = time.time()\n",
        "result = numpy_array1 + numpy_array2\n",
        "print(\"Numpy array addition time:\", time.time() - start_time)"
      ],
      "metadata": {
        "colab": {
          "base_uri": "https://localhost:8080/"
        },
        "id": "cD_ocUJl-HUE",
        "outputId": "5f95fd9c-89b8-4e94-9216-73239312561c"
      },
      "execution_count": 26,
      "outputs": [
        {
          "output_type": "stream",
          "name": "stdout",
          "text": [
            "Python list addition time: 0.05854630470275879\n",
            "Numpy array addition time: 0.008169412612915039\n"
          ]
        }
      ]
    },
    {
      "cell_type": "code",
      "source": [
        "# Element-wise Multiplication\n",
        "start_time = time.time()\n",
        "result = [a * b for a, b in zip(python_list1, python_list2)]\n",
        "print(\"Python list multiplication time:\", time.time() - start_time)\n",
        "\n",
        "start_time = time.time()\n",
        "result = numpy_array1 * numpy_array2\n",
        "print(\"Numpy array multiplication time:\", time.time() - start_time)"
      ],
      "metadata": {
        "colab": {
          "base_uri": "https://localhost:8080/"
        },
        "id": "cJF0vVsq4dW2",
        "outputId": "2d06f995-c1a5-482f-81a1-9de6ecbf52a4"
      },
      "execution_count": 27,
      "outputs": [
        {
          "output_type": "stream",
          "name": "stdout",
          "text": [
            "Python list multiplication time: 0.056739091873168945\n",
            "Numpy array multiplication time: 0.008426427841186523\n"
          ]
        }
      ]
    },
    {
      "cell_type": "code",
      "source": [
        "# Dot Product\n",
        "start_time = time.time()\n",
        "dot_product = sum(a * b for a, b in zip(python_list1, python_list2))\n",
        "print(\"Python list dot product time:\", time.time() - start_time)\n",
        "\n",
        "start_time = time.time()\n",
        "dot_product = np.dot(numpy_array1, numpy_array2)\n",
        "print(\"Numpy array dot product time:\", time.time() - start_time)"
      ],
      "metadata": {
        "colab": {
          "base_uri": "https://localhost:8080/"
        },
        "id": "iETPzV8d4dhV",
        "outputId": "0c47e462-0141-4ce4-bf5f-eecf4ff70c4d"
      },
      "execution_count": 28,
      "outputs": [
        {
          "output_type": "stream",
          "name": "stdout",
          "text": [
            "Python list dot product time: 0.08087372779846191\n",
            "Numpy array dot product time: 0.0010726451873779297\n"
          ]
        }
      ]
    },
    {
      "cell_type": "code",
      "source": [
        "\n",
        "# Matrix Multiplication\n",
        "python_matrix1 = [[i + j for j in range(1000)] for i in range(1000)]\n",
        "python_matrix2 = [[i + j for j in range(1000)] for i in range(1000)]\n",
        "start_time = time.time()\n",
        "result = [[sum(a * b for a, b in zip(row, col)) for col in zip(*python_matrix2)] for row in python_matrix1]\n",
        "print(\"Python list matrix multiplication time:\", time.time() - start_time)\n",
        "\n",
        "numpy_matrix1 = np.random.random((1000, 1000))\n",
        "numpy_matrix2 = np.random.random((1000, 1000))\n",
        "start_time = time.time()\n",
        "result = np.dot(numpy_matrix1, numpy_matrix2)\n",
        "print(\"Numpy array matrix multiplication time:\", time.time() - start_time)"
      ],
      "metadata": {
        "colab": {
          "base_uri": "https://localhost:8080/"
        },
        "id": "K-_AUpPY4dq9",
        "outputId": "76d20234-16aa-4e54-8d2e-5e8522db1c93"
      },
      "execution_count": 29,
      "outputs": [
        {
          "output_type": "stream",
          "name": "stdout",
          "text": [
            "Python list matrix multiplication time: 84.30873465538025\n",
            "Numpy array matrix multiplication time: 0.0708012580871582\n"
          ]
        }
      ]
    },
    {
      "cell_type": "markdown",
      "source": [],
      "metadata": {
        "id": "hT8A0u5F-JHm"
      }
    }
  ]
}